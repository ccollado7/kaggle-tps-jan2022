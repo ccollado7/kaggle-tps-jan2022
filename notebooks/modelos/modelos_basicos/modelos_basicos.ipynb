{
 "cells": [
  {
   "cell_type": "markdown",
   "id": "ebc6157e",
   "metadata": {},
   "source": [
    "# Kaggle - Tabular Playground Series - Jan 2022"
   ]
  },
  {
   "cell_type": "markdown",
   "id": "051df3f1",
   "metadata": {},
   "source": [
    "# 1. Modules"
   ]
  },
  {
   "cell_type": "code",
   "execution_count": 1,
   "id": "2bc0b376",
   "metadata": {},
   "outputs": [],
   "source": [
    "import numpy as np\n",
    "import pandas as pd\n",
    "import matplotlib.pyplot as plt\n",
    "import seaborn as sns\n",
    "\n",
    "import warnings\n",
    "warnings.filterwarnings('ignore')\n",
    "\n",
    "import datetime"
   ]
  },
  {
   "cell_type": "markdown",
   "id": "30bcb944",
   "metadata": {},
   "source": [
    "# 2. Data"
   ]
  },
  {
   "cell_type": "code",
   "execution_count": 2,
   "id": "4a4bf61e",
   "metadata": {},
   "outputs": [],
   "source": [
    "#paths to the Github repo\n",
    "\n",
    "train_path = 'https://raw.githubusercontent.com/ccollado7/kaggle-tps-jan2022/main/data/raw/train.csv'\n",
    "test_path = 'https://raw.githubusercontent.com/ccollado7/kaggle-tps-jan2022/main/data/raw/test.csv'\n",
    "submission_path = 'https://raw.githubusercontent.com/ccollado7/kaggle-tps-jan2022/main/data/raw/sample_submission.csv'"
   ]
  },
  {
   "cell_type": "code",
   "execution_count": 3,
   "id": "c2b79ec4",
   "metadata": {},
   "outputs": [
    {
     "data": {
      "text/html": [
       "<div>\n",
       "<style scoped>\n",
       "    .dataframe tbody tr th:only-of-type {\n",
       "        vertical-align: middle;\n",
       "    }\n",
       "\n",
       "    .dataframe tbody tr th {\n",
       "        vertical-align: top;\n",
       "    }\n",
       "\n",
       "    .dataframe thead th {\n",
       "        text-align: right;\n",
       "    }\n",
       "</style>\n",
       "<table border=\"1\" class=\"dataframe\">\n",
       "  <thead>\n",
       "    <tr style=\"text-align: right;\">\n",
       "      <th></th>\n",
       "      <th>row_id</th>\n",
       "      <th>date</th>\n",
       "      <th>country</th>\n",
       "      <th>store</th>\n",
       "      <th>product</th>\n",
       "      <th>num_sold</th>\n",
       "    </tr>\n",
       "  </thead>\n",
       "  <tbody>\n",
       "    <tr>\n",
       "      <th>0</th>\n",
       "      <td>0</td>\n",
       "      <td>2015-01-01</td>\n",
       "      <td>Finland</td>\n",
       "      <td>KaggleMart</td>\n",
       "      <td>Kaggle Mug</td>\n",
       "      <td>329</td>\n",
       "    </tr>\n",
       "    <tr>\n",
       "      <th>1</th>\n",
       "      <td>1</td>\n",
       "      <td>2015-01-01</td>\n",
       "      <td>Finland</td>\n",
       "      <td>KaggleMart</td>\n",
       "      <td>Kaggle Hat</td>\n",
       "      <td>520</td>\n",
       "    </tr>\n",
       "    <tr>\n",
       "      <th>2</th>\n",
       "      <td>2</td>\n",
       "      <td>2015-01-01</td>\n",
       "      <td>Finland</td>\n",
       "      <td>KaggleMart</td>\n",
       "      <td>Kaggle Sticker</td>\n",
       "      <td>146</td>\n",
       "    </tr>\n",
       "    <tr>\n",
       "      <th>3</th>\n",
       "      <td>3</td>\n",
       "      <td>2015-01-01</td>\n",
       "      <td>Finland</td>\n",
       "      <td>KaggleRama</td>\n",
       "      <td>Kaggle Mug</td>\n",
       "      <td>572</td>\n",
       "    </tr>\n",
       "    <tr>\n",
       "      <th>4</th>\n",
       "      <td>4</td>\n",
       "      <td>2015-01-01</td>\n",
       "      <td>Finland</td>\n",
       "      <td>KaggleRama</td>\n",
       "      <td>Kaggle Hat</td>\n",
       "      <td>911</td>\n",
       "    </tr>\n",
       "  </tbody>\n",
       "</table>\n",
       "</div>"
      ],
      "text/plain": [
       "   row_id        date  country       store         product  num_sold\n",
       "0       0  2015-01-01  Finland  KaggleMart      Kaggle Mug       329\n",
       "1       1  2015-01-01  Finland  KaggleMart      Kaggle Hat       520\n",
       "2       2  2015-01-01  Finland  KaggleMart  Kaggle Sticker       146\n",
       "3       3  2015-01-01  Finland  KaggleRama      Kaggle Mug       572\n",
       "4       4  2015-01-01  Finland  KaggleRama      Kaggle Hat       911"
      ]
     },
     "execution_count": 3,
     "metadata": {},
     "output_type": "execute_result"
    }
   ],
   "source": [
    "#train dataset\n",
    "\n",
    "train = pd.read_csv(train_path)\n",
    "train.head()"
   ]
  },
  {
   "cell_type": "code",
   "execution_count": 4,
   "id": "606f2d9f",
   "metadata": {},
   "outputs": [],
   "source": [
    "#modify date column to datetime\n",
    "\n",
    "train['date'] = pd.to_datetime(train['date'])"
   ]
  },
  {
   "cell_type": "code",
   "execution_count": 5,
   "id": "f5d46369",
   "metadata": {},
   "outputs": [
    {
     "data": {
      "text/plain": [
       "row_id               int64\n",
       "date        datetime64[ns]\n",
       "country             object\n",
       "store               object\n",
       "product             object\n",
       "num_sold             int64\n",
       "dtype: object"
      ]
     },
     "execution_count": 5,
     "metadata": {},
     "output_type": "execute_result"
    }
   ],
   "source": [
    "#verify the change in date column\n",
    "\n",
    "train.dtypes"
   ]
  },
  {
   "cell_type": "code",
   "execution_count": 6,
   "id": "aec7dd56",
   "metadata": {},
   "outputs": [
    {
     "data": {
      "text/html": [
       "<div>\n",
       "<style scoped>\n",
       "    .dataframe tbody tr th:only-of-type {\n",
       "        vertical-align: middle;\n",
       "    }\n",
       "\n",
       "    .dataframe tbody tr th {\n",
       "        vertical-align: top;\n",
       "    }\n",
       "\n",
       "    .dataframe thead th {\n",
       "        text-align: right;\n",
       "    }\n",
       "</style>\n",
       "<table border=\"1\" class=\"dataframe\">\n",
       "  <thead>\n",
       "    <tr style=\"text-align: right;\">\n",
       "      <th></th>\n",
       "      <th>row_id</th>\n",
       "      <th>date</th>\n",
       "      <th>country</th>\n",
       "      <th>store</th>\n",
       "      <th>product</th>\n",
       "      <th>num_sold</th>\n",
       "      <th>year</th>\n",
       "      <th>day_year</th>\n",
       "    </tr>\n",
       "  </thead>\n",
       "  <tbody>\n",
       "    <tr>\n",
       "      <th>0</th>\n",
       "      <td>0</td>\n",
       "      <td>2015-01-01</td>\n",
       "      <td>Finland</td>\n",
       "      <td>KaggleMart</td>\n",
       "      <td>Kaggle Mug</td>\n",
       "      <td>329</td>\n",
       "      <td>2015</td>\n",
       "      <td>1</td>\n",
       "    </tr>\n",
       "    <tr>\n",
       "      <th>1</th>\n",
       "      <td>1</td>\n",
       "      <td>2015-01-01</td>\n",
       "      <td>Finland</td>\n",
       "      <td>KaggleMart</td>\n",
       "      <td>Kaggle Hat</td>\n",
       "      <td>520</td>\n",
       "      <td>2015</td>\n",
       "      <td>1</td>\n",
       "    </tr>\n",
       "    <tr>\n",
       "      <th>2</th>\n",
       "      <td>2</td>\n",
       "      <td>2015-01-01</td>\n",
       "      <td>Finland</td>\n",
       "      <td>KaggleMart</td>\n",
       "      <td>Kaggle Sticker</td>\n",
       "      <td>146</td>\n",
       "      <td>2015</td>\n",
       "      <td>1</td>\n",
       "    </tr>\n",
       "    <tr>\n",
       "      <th>3</th>\n",
       "      <td>3</td>\n",
       "      <td>2015-01-01</td>\n",
       "      <td>Finland</td>\n",
       "      <td>KaggleRama</td>\n",
       "      <td>Kaggle Mug</td>\n",
       "      <td>572</td>\n",
       "      <td>2015</td>\n",
       "      <td>1</td>\n",
       "    </tr>\n",
       "    <tr>\n",
       "      <th>4</th>\n",
       "      <td>4</td>\n",
       "      <td>2015-01-01</td>\n",
       "      <td>Finland</td>\n",
       "      <td>KaggleRama</td>\n",
       "      <td>Kaggle Hat</td>\n",
       "      <td>911</td>\n",
       "      <td>2015</td>\n",
       "      <td>1</td>\n",
       "    </tr>\n",
       "  </tbody>\n",
       "</table>\n",
       "</div>"
      ],
      "text/plain": [
       "   row_id       date  country       store         product  num_sold  year  \\\n",
       "0       0 2015-01-01  Finland  KaggleMart      Kaggle Mug       329  2015   \n",
       "1       1 2015-01-01  Finland  KaggleMart      Kaggle Hat       520  2015   \n",
       "2       2 2015-01-01  Finland  KaggleMart  Kaggle Sticker       146  2015   \n",
       "3       3 2015-01-01  Finland  KaggleRama      Kaggle Mug       572  2015   \n",
       "4       4 2015-01-01  Finland  KaggleRama      Kaggle Hat       911  2015   \n",
       "\n",
       "   day_year  \n",
       "0         1  \n",
       "1         1  \n",
       "2         1  \n",
       "3         1  \n",
       "4         1  "
      ]
     },
     "execution_count": 6,
     "metadata": {},
     "output_type": "execute_result"
    }
   ],
   "source": [
    "#incorporate year and day year\n",
    "\n",
    "train['year'] = pd.to_datetime(train['date']).dt.year\n",
    "train['day_year'] = pd.to_datetime(train['date']).dt.dayofyear #Number of day from 1 to 365\n",
    "\n",
    "train.head()"
   ]
  },
  {
   "cell_type": "code",
   "execution_count": 7,
   "id": "172f4491",
   "metadata": {},
   "outputs": [
    {
     "data": {
      "text/html": [
       "<div>\n",
       "<style scoped>\n",
       "    .dataframe tbody tr th:only-of-type {\n",
       "        vertical-align: middle;\n",
       "    }\n",
       "\n",
       "    .dataframe tbody tr th {\n",
       "        vertical-align: top;\n",
       "    }\n",
       "\n",
       "    .dataframe thead th {\n",
       "        text-align: right;\n",
       "    }\n",
       "</style>\n",
       "<table border=\"1\" class=\"dataframe\">\n",
       "  <thead>\n",
       "    <tr style=\"text-align: right;\">\n",
       "      <th></th>\n",
       "      <th>row_id</th>\n",
       "      <th>date</th>\n",
       "      <th>country</th>\n",
       "      <th>store</th>\n",
       "      <th>product</th>\n",
       "    </tr>\n",
       "  </thead>\n",
       "  <tbody>\n",
       "    <tr>\n",
       "      <th>0</th>\n",
       "      <td>26298</td>\n",
       "      <td>2019-01-01</td>\n",
       "      <td>Finland</td>\n",
       "      <td>KaggleMart</td>\n",
       "      <td>Kaggle Mug</td>\n",
       "    </tr>\n",
       "    <tr>\n",
       "      <th>1</th>\n",
       "      <td>26299</td>\n",
       "      <td>2019-01-01</td>\n",
       "      <td>Finland</td>\n",
       "      <td>KaggleMart</td>\n",
       "      <td>Kaggle Hat</td>\n",
       "    </tr>\n",
       "    <tr>\n",
       "      <th>2</th>\n",
       "      <td>26300</td>\n",
       "      <td>2019-01-01</td>\n",
       "      <td>Finland</td>\n",
       "      <td>KaggleMart</td>\n",
       "      <td>Kaggle Sticker</td>\n",
       "    </tr>\n",
       "    <tr>\n",
       "      <th>3</th>\n",
       "      <td>26301</td>\n",
       "      <td>2019-01-01</td>\n",
       "      <td>Finland</td>\n",
       "      <td>KaggleRama</td>\n",
       "      <td>Kaggle Mug</td>\n",
       "    </tr>\n",
       "    <tr>\n",
       "      <th>4</th>\n",
       "      <td>26302</td>\n",
       "      <td>2019-01-01</td>\n",
       "      <td>Finland</td>\n",
       "      <td>KaggleRama</td>\n",
       "      <td>Kaggle Hat</td>\n",
       "    </tr>\n",
       "  </tbody>\n",
       "</table>\n",
       "</div>"
      ],
      "text/plain": [
       "   row_id        date  country       store         product\n",
       "0   26298  2019-01-01  Finland  KaggleMart      Kaggle Mug\n",
       "1   26299  2019-01-01  Finland  KaggleMart      Kaggle Hat\n",
       "2   26300  2019-01-01  Finland  KaggleMart  Kaggle Sticker\n",
       "3   26301  2019-01-01  Finland  KaggleRama      Kaggle Mug\n",
       "4   26302  2019-01-01  Finland  KaggleRama      Kaggle Hat"
      ]
     },
     "execution_count": 7,
     "metadata": {},
     "output_type": "execute_result"
    }
   ],
   "source": [
    "#test dataset\n",
    "\n",
    "test = pd.read_csv(test_path)\n",
    "test.head()"
   ]
  },
  {
   "cell_type": "code",
   "execution_count": 8,
   "id": "778a82dd",
   "metadata": {},
   "outputs": [
    {
     "data": {
      "text/html": [
       "<div>\n",
       "<style scoped>\n",
       "    .dataframe tbody tr th:only-of-type {\n",
       "        vertical-align: middle;\n",
       "    }\n",
       "\n",
       "    .dataframe tbody tr th {\n",
       "        vertical-align: top;\n",
       "    }\n",
       "\n",
       "    .dataframe thead th {\n",
       "        text-align: right;\n",
       "    }\n",
       "</style>\n",
       "<table border=\"1\" class=\"dataframe\">\n",
       "  <thead>\n",
       "    <tr style=\"text-align: right;\">\n",
       "      <th></th>\n",
       "      <th>row_id</th>\n",
       "      <th>date</th>\n",
       "      <th>country</th>\n",
       "      <th>store</th>\n",
       "      <th>product</th>\n",
       "      <th>year</th>\n",
       "      <th>day_year</th>\n",
       "      <th>num_sold</th>\n",
       "    </tr>\n",
       "  </thead>\n",
       "  <tbody>\n",
       "    <tr>\n",
       "      <th>0</th>\n",
       "      <td>26298</td>\n",
       "      <td>2019-01-01</td>\n",
       "      <td>Finland</td>\n",
       "      <td>KaggleMart</td>\n",
       "      <td>Kaggle Mug</td>\n",
       "      <td>2019</td>\n",
       "      <td>1</td>\n",
       "      <td>0</td>\n",
       "    </tr>\n",
       "    <tr>\n",
       "      <th>1</th>\n",
       "      <td>26299</td>\n",
       "      <td>2019-01-01</td>\n",
       "      <td>Finland</td>\n",
       "      <td>KaggleMart</td>\n",
       "      <td>Kaggle Hat</td>\n",
       "      <td>2019</td>\n",
       "      <td>1</td>\n",
       "      <td>0</td>\n",
       "    </tr>\n",
       "    <tr>\n",
       "      <th>2</th>\n",
       "      <td>26300</td>\n",
       "      <td>2019-01-01</td>\n",
       "      <td>Finland</td>\n",
       "      <td>KaggleMart</td>\n",
       "      <td>Kaggle Sticker</td>\n",
       "      <td>2019</td>\n",
       "      <td>1</td>\n",
       "      <td>0</td>\n",
       "    </tr>\n",
       "    <tr>\n",
       "      <th>3</th>\n",
       "      <td>26301</td>\n",
       "      <td>2019-01-01</td>\n",
       "      <td>Finland</td>\n",
       "      <td>KaggleRama</td>\n",
       "      <td>Kaggle Mug</td>\n",
       "      <td>2019</td>\n",
       "      <td>1</td>\n",
       "      <td>0</td>\n",
       "    </tr>\n",
       "    <tr>\n",
       "      <th>4</th>\n",
       "      <td>26302</td>\n",
       "      <td>2019-01-01</td>\n",
       "      <td>Finland</td>\n",
       "      <td>KaggleRama</td>\n",
       "      <td>Kaggle Hat</td>\n",
       "      <td>2019</td>\n",
       "      <td>1</td>\n",
       "      <td>0</td>\n",
       "    </tr>\n",
       "  </tbody>\n",
       "</table>\n",
       "</div>"
      ],
      "text/plain": [
       "   row_id       date  country       store         product  year  day_year  \\\n",
       "0   26298 2019-01-01  Finland  KaggleMart      Kaggle Mug  2019         1   \n",
       "1   26299 2019-01-01  Finland  KaggleMart      Kaggle Hat  2019         1   \n",
       "2   26300 2019-01-01  Finland  KaggleMart  Kaggle Sticker  2019         1   \n",
       "3   26301 2019-01-01  Finland  KaggleRama      Kaggle Mug  2019         1   \n",
       "4   26302 2019-01-01  Finland  KaggleRama      Kaggle Hat  2019         1   \n",
       "\n",
       "   num_sold  \n",
       "0         0  \n",
       "1         0  \n",
       "2         0  \n",
       "3         0  \n",
       "4         0  "
      ]
     },
     "execution_count": 8,
     "metadata": {},
     "output_type": "execute_result"
    }
   ],
   "source": [
    "#change to datetime, incorporate year and num_sold column with cero values\n",
    "\n",
    "test['date'] = pd.to_datetime(test['date'])\n",
    "\n",
    "test['year'] = test['date'].dt.year\n",
    "test['day_year'] = test['date'].dt.dayofyear\n",
    "\n",
    "test['num_sold'] = 0\n",
    "test.head()"
   ]
  },
  {
   "cell_type": "code",
   "execution_count": 9,
   "id": "8dd04e46",
   "metadata": {},
   "outputs": [
    {
     "data": {
      "text/plain": [
       "365"
      ]
     },
     "execution_count": 9,
     "metadata": {},
     "output_type": "execute_result"
    }
   ],
   "source": [
    "#number of days in test dataset: This is importante because maybe some year in train dataset have 366 days\n",
    "\n",
    "len(test['date'].unique())"
   ]
  },
  {
   "cell_type": "code",
   "execution_count": 10,
   "id": "1c314620",
   "metadata": {},
   "outputs": [
    {
     "data": {
      "text/html": [
       "<div>\n",
       "<style scoped>\n",
       "    .dataframe tbody tr th:only-of-type {\n",
       "        vertical-align: middle;\n",
       "    }\n",
       "\n",
       "    .dataframe tbody tr th {\n",
       "        vertical-align: top;\n",
       "    }\n",
       "\n",
       "    .dataframe thead th {\n",
       "        text-align: right;\n",
       "    }\n",
       "</style>\n",
       "<table border=\"1\" class=\"dataframe\">\n",
       "  <thead>\n",
       "    <tr style=\"text-align: right;\">\n",
       "      <th></th>\n",
       "      <th>row_id</th>\n",
       "      <th>num_sold</th>\n",
       "    </tr>\n",
       "  </thead>\n",
       "  <tbody>\n",
       "    <tr>\n",
       "      <th>0</th>\n",
       "      <td>26298</td>\n",
       "      <td>100</td>\n",
       "    </tr>\n",
       "    <tr>\n",
       "      <th>1</th>\n",
       "      <td>26299</td>\n",
       "      <td>100</td>\n",
       "    </tr>\n",
       "    <tr>\n",
       "      <th>2</th>\n",
       "      <td>26300</td>\n",
       "      <td>100</td>\n",
       "    </tr>\n",
       "    <tr>\n",
       "      <th>3</th>\n",
       "      <td>26301</td>\n",
       "      <td>100</td>\n",
       "    </tr>\n",
       "    <tr>\n",
       "      <th>4</th>\n",
       "      <td>26302</td>\n",
       "      <td>100</td>\n",
       "    </tr>\n",
       "  </tbody>\n",
       "</table>\n",
       "</div>"
      ],
      "text/plain": [
       "   row_id  num_sold\n",
       "0   26298       100\n",
       "1   26299       100\n",
       "2   26300       100\n",
       "3   26301       100\n",
       "4   26302       100"
      ]
     },
     "execution_count": 10,
     "metadata": {},
     "output_type": "execute_result"
    }
   ],
   "source": [
    "#submit dataset\n",
    "\n",
    "submit = pd.read_csv(submission_path)\n",
    "submit.head()"
   ]
  },
  {
   "cell_type": "code",
   "execution_count": 11,
   "id": "979c9fef",
   "metadata": {},
   "outputs": [
    {
     "data": {
      "text/plain": [
       "array(['Finland', 'Norway', 'Sweden'], dtype=object)"
      ]
     },
     "execution_count": 11,
     "metadata": {},
     "output_type": "execute_result"
    }
   ],
   "source": [
    "#countrys\n",
    "\n",
    "countrys = train['country'].unique()\n",
    "countrys"
   ]
  },
  {
   "cell_type": "code",
   "execution_count": 12,
   "id": "f281ef54",
   "metadata": {},
   "outputs": [
    {
     "data": {
      "text/plain": [
       "array(['KaggleMart', 'KaggleRama'], dtype=object)"
      ]
     },
     "execution_count": 12,
     "metadata": {},
     "output_type": "execute_result"
    }
   ],
   "source": [
    "#stores\n",
    "\n",
    "stores = train['store'].unique()\n",
    "stores"
   ]
  },
  {
   "cell_type": "code",
   "execution_count": 13,
   "id": "bcdcafbb",
   "metadata": {},
   "outputs": [
    {
     "data": {
      "text/plain": [
       "array(['Kaggle Mug', 'Kaggle Hat', 'Kaggle Sticker'], dtype=object)"
      ]
     },
     "execution_count": 13,
     "metadata": {},
     "output_type": "execute_result"
    }
   ],
   "source": [
    "#products\n",
    "\n",
    "products = train['product'].unique()\n",
    "products"
   ]
  },
  {
   "cell_type": "markdown",
   "id": "3e40ad30",
   "metadata": {},
   "source": [
    "# 3. Model 1"
   ]
  },
  {
   "cell_type": "code",
   "execution_count": 14,
   "id": "44a778c3",
   "metadata": {},
   "outputs": [],
   "source": [
    "#empty dataframe\n",
    "df = pd.DataFrame(columns = ['row_id', 'num_sold'])\n",
    "\n",
    "#loop to iterate in every combination country/store/product\n",
    "for i in countrys:\n",
    "    for j in stores:\n",
    "        for k in products:\n",
    "            filt = (train['country'] == i) & (train['store'] == j) & (train['product'] == k) #filter for train dataset\n",
    "            #filter train / test for every filter combination\n",
    "            f = train[filt] \n",
    "            f_1 = test[filt]\n",
    "            f_1.set_index('day_year',inplace=True) #set new index\n",
    "            f_1['num_sold'] = f.pivot(index='day_year', columns='year', values='num_sold').drop(366).mean(axis=1) #calculate the mean by row\n",
    "            df = pd.concat([df,f_1[['row_id','num_sold']]]) #concat dataframes"
   ]
  },
  {
   "cell_type": "code",
   "execution_count": 15,
   "id": "7c06cef2",
   "metadata": {},
   "outputs": [
    {
     "data": {
      "text/html": [
       "<div>\n",
       "<style scoped>\n",
       "    .dataframe tbody tr th:only-of-type {\n",
       "        vertical-align: middle;\n",
       "    }\n",
       "\n",
       "    .dataframe tbody tr th {\n",
       "        vertical-align: top;\n",
       "    }\n",
       "\n",
       "    .dataframe thead th {\n",
       "        text-align: right;\n",
       "    }\n",
       "</style>\n",
       "<table border=\"1\" class=\"dataframe\">\n",
       "  <thead>\n",
       "    <tr style=\"text-align: right;\">\n",
       "      <th></th>\n",
       "      <th>row_id</th>\n",
       "      <th>num_sold</th>\n",
       "    </tr>\n",
       "  </thead>\n",
       "  <tbody>\n",
       "    <tr>\n",
       "      <th>1</th>\n",
       "      <td>26298</td>\n",
       "      <td>385.00</td>\n",
       "    </tr>\n",
       "    <tr>\n",
       "      <th>2</th>\n",
       "      <td>26316</td>\n",
       "      <td>317.25</td>\n",
       "    </tr>\n",
       "    <tr>\n",
       "      <th>3</th>\n",
       "      <td>26334</td>\n",
       "      <td>298.00</td>\n",
       "    </tr>\n",
       "    <tr>\n",
       "      <th>4</th>\n",
       "      <td>26352</td>\n",
       "      <td>262.00</td>\n",
       "    </tr>\n",
       "    <tr>\n",
       "      <th>5</th>\n",
       "      <td>26370</td>\n",
       "      <td>252.50</td>\n",
       "    </tr>\n",
       "  </tbody>\n",
       "</table>\n",
       "</div>"
      ],
      "text/plain": [
       "  row_id  num_sold\n",
       "1  26298    385.00\n",
       "2  26316    317.25\n",
       "3  26334    298.00\n",
       "4  26352    262.00\n",
       "5  26370    252.50"
      ]
     },
     "execution_count": 15,
     "metadata": {},
     "output_type": "execute_result"
    }
   ],
   "source": [
    "df.head()"
   ]
  },
  {
   "cell_type": "code",
   "execution_count": 16,
   "id": "3af89087",
   "metadata": {},
   "outputs": [],
   "source": [
    "#submmit file\n",
    "\n",
    "df.sort_values(by=['row_id'],inplace=True)\n",
    "df.reset_index(drop=True, inplace=True)\n",
    "df.to_csv('modelo_1.csv', index=False)"
   ]
  },
  {
   "cell_type": "markdown",
   "id": "221fd034",
   "metadata": {},
   "source": [
    "# 4. Model 2"
   ]
  },
  {
   "cell_type": "code",
   "execution_count": 17,
   "id": "25bea18a",
   "metadata": {},
   "outputs": [],
   "source": [
    "#empty dataframe\n",
    "df = pd.DataFrame(columns = ['row_id', 'num_sold'])\n",
    "\n",
    "#loop to iterate in every combination country/store/product\n",
    "for i in countrys:\n",
    "    for j in stores:\n",
    "        for k in products:\n",
    "            filt = (train['country'] == i) & (train['store'] == j) & (train['product'] == k) #filter for train dataset\n",
    "            #filter train / test for every filter combination\n",
    "            f = train[filt] \n",
    "            f_1 = test[filt]\n",
    "            f_1.set_index('day_year',inplace=True) #set new index\n",
    "            f_2018 = f.pivot(index='day_year', columns='year', values='num_sold').drop(366)[2018]\n",
    "            f_1['num_sold'] = f.pivot(index='day_year', columns='year', values='num_sold').drop(366).diff(axis=1).sum(axis=1) + f_2018\n",
    "            df = pd.concat([df,f_1[['row_id','num_sold']]]) #concat dataframes"
   ]
  },
  {
   "cell_type": "code",
   "execution_count": 18,
   "id": "f40d5380",
   "metadata": {},
   "outputs": [],
   "source": [
    "#submmit file\n",
    "\n",
    "df.sort_values(by=['row_id'],inplace=True)\n",
    "df.reset_index(drop=True, inplace=True)\n",
    "df.to_csv('modelo_2.csv', index=False)"
   ]
  },
  {
   "cell_type": "markdown",
   "id": "f0ff896e",
   "metadata": {},
   "source": [
    "# 5. Model 3"
   ]
  },
  {
   "cell_type": "code",
   "execution_count": 36,
   "id": "59306997",
   "metadata": {},
   "outputs": [],
   "source": [
    "#empty dataframe\n",
    "df = pd.DataFrame(columns = ['row_id', 'num_sold'])\n",
    "\n",
    "#loop to iterate in every combination country/store/product\n",
    "for i in countrys:\n",
    "    for j in stores:\n",
    "        for k in products:\n",
    "            filt = (train['country'] == i) & (train['store'] == j) & (train['product'] == k) #filter for train dataset\n",
    "            #filter train / test for every filter combination\n",
    "            f = train[filt] \n",
    "            f_1 = test[filt]\n",
    "            f_1.set_index('day_year',inplace=True) #set new index\n",
    "            f_2018 = f.pivot(index='day_year', columns='year', values='num_sold').drop(366)[2018]\n",
    "            f_1['num_sold'] = f_2018 * (1 - (f.pivot(index='day_year', columns='year', values='num_sold').drop(366).diff(axis=1)[2018]) / f_2018)\n",
    "            df = pd.concat([df,f_1[['row_id','num_sold']]]) #concat dataframes"
   ]
  },
  {
   "cell_type": "code",
   "execution_count": 37,
   "id": "7d96eaaf",
   "metadata": {},
   "outputs": [],
   "source": [
    "#submmit file\n",
    "\n",
    "df.sort_values(by=['row_id'],inplace=True)\n",
    "df.reset_index(drop=True, inplace=True)\n",
    "df.to_csv('modelo_3.csv', index=False)"
   ]
  },
  {
   "cell_type": "code",
   "execution_count": null,
   "id": "8e957d18",
   "metadata": {},
   "outputs": [],
   "source": []
  }
 ],
 "metadata": {
  "kernelspec": {
   "display_name": "Python 3",
   "language": "python",
   "name": "python3"
  },
  "language_info": {
   "codemirror_mode": {
    "name": "ipython",
    "version": 3
   },
   "file_extension": ".py",
   "mimetype": "text/x-python",
   "name": "python",
   "nbconvert_exporter": "python",
   "pygments_lexer": "ipython3",
   "version": "3.8.8"
  }
 },
 "nbformat": 4,
 "nbformat_minor": 5
}
