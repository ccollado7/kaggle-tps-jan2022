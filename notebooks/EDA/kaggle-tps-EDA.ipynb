{
 "cells": [
  {
   "cell_type": "markdown",
   "id": "ebc6157e",
   "metadata": {},
   "source": [
    "# Kaggle - Tabular Playground Series - Jan 2022"
   ]
  },
  {
   "cell_type": "markdown",
   "id": "051df3f1",
   "metadata": {},
   "source": [
    "## 1. Modulos"
   ]
  },
  {
   "cell_type": "code",
   "execution_count": 7,
   "id": "2bc0b376",
   "metadata": {},
   "outputs": [],
   "source": [
    "import numpy as np\n",
    "import pandas as pd\n",
    "import matplotlib.pyplot as plt\n",
    "import seaborn as sns"
   ]
  },
  {
   "cell_type": "code",
   "execution_count": 2,
   "id": "4a4bf61e",
   "metadata": {},
   "outputs": [],
   "source": [
    "#paths de los datos correspondiente al repositosio\n",
    "\n",
    "train_path = 'https://raw.githubusercontent.com/ccollado7/kaggle-tps-jan2022/main/data/raw/train.csv'\n",
    "test_path = 'https://raw.githubusercontent.com/ccollado7/kaggle-tps-jan2022/main/data/raw/test.csv'"
   ]
  },
  {
   "cell_type": "code",
   "execution_count": 4,
   "id": "c2b79ec4",
   "metadata": {},
   "outputs": [
    {
     "data": {
      "text/html": [
       "<div>\n",
       "<style scoped>\n",
       "    .dataframe tbody tr th:only-of-type {\n",
       "        vertical-align: middle;\n",
       "    }\n",
       "\n",
       "    .dataframe tbody tr th {\n",
       "        vertical-align: top;\n",
       "    }\n",
       "\n",
       "    .dataframe thead th {\n",
       "        text-align: right;\n",
       "    }\n",
       "</style>\n",
       "<table border=\"1\" class=\"dataframe\">\n",
       "  <thead>\n",
       "    <tr style=\"text-align: right;\">\n",
       "      <th></th>\n",
       "      <th>row_id</th>\n",
       "      <th>date</th>\n",
       "      <th>country</th>\n",
       "      <th>store</th>\n",
       "      <th>product</th>\n",
       "      <th>num_sold</th>\n",
       "    </tr>\n",
       "  </thead>\n",
       "  <tbody>\n",
       "    <tr>\n",
       "      <th>0</th>\n",
       "      <td>0</td>\n",
       "      <td>2015-01-01</td>\n",
       "      <td>Finland</td>\n",
       "      <td>KaggleMart</td>\n",
       "      <td>Kaggle Mug</td>\n",
       "      <td>329</td>\n",
       "    </tr>\n",
       "    <tr>\n",
       "      <th>1</th>\n",
       "      <td>1</td>\n",
       "      <td>2015-01-01</td>\n",
       "      <td>Finland</td>\n",
       "      <td>KaggleMart</td>\n",
       "      <td>Kaggle Hat</td>\n",
       "      <td>520</td>\n",
       "    </tr>\n",
       "    <tr>\n",
       "      <th>2</th>\n",
       "      <td>2</td>\n",
       "      <td>2015-01-01</td>\n",
       "      <td>Finland</td>\n",
       "      <td>KaggleMart</td>\n",
       "      <td>Kaggle Sticker</td>\n",
       "      <td>146</td>\n",
       "    </tr>\n",
       "    <tr>\n",
       "      <th>3</th>\n",
       "      <td>3</td>\n",
       "      <td>2015-01-01</td>\n",
       "      <td>Finland</td>\n",
       "      <td>KaggleRama</td>\n",
       "      <td>Kaggle Mug</td>\n",
       "      <td>572</td>\n",
       "    </tr>\n",
       "    <tr>\n",
       "      <th>4</th>\n",
       "      <td>4</td>\n",
       "      <td>2015-01-01</td>\n",
       "      <td>Finland</td>\n",
       "      <td>KaggleRama</td>\n",
       "      <td>Kaggle Hat</td>\n",
       "      <td>911</td>\n",
       "    </tr>\n",
       "  </tbody>\n",
       "</table>\n",
       "</div>"
      ],
      "text/plain": [
       "   row_id        date  country       store         product  num_sold\n",
       "0       0  2015-01-01  Finland  KaggleMart      Kaggle Mug       329\n",
       "1       1  2015-01-01  Finland  KaggleMart      Kaggle Hat       520\n",
       "2       2  2015-01-01  Finland  KaggleMart  Kaggle Sticker       146\n",
       "3       3  2015-01-01  Finland  KaggleRama      Kaggle Mug       572\n",
       "4       4  2015-01-01  Finland  KaggleRama      Kaggle Hat       911"
      ]
     },
     "execution_count": 4,
     "metadata": {},
     "output_type": "execute_result"
    }
   ],
   "source": [
    "#dataset de train\n",
    "\n",
    "train = pd.read_csv(train_path)\n",
    "train.head()"
   ]
  },
  {
   "cell_type": "code",
   "execution_count": 5,
   "id": "b79ef4bf",
   "metadata": {},
   "outputs": [
    {
     "data": {
      "text/html": [
       "<div>\n",
       "<style scoped>\n",
       "    .dataframe tbody tr th:only-of-type {\n",
       "        vertical-align: middle;\n",
       "    }\n",
       "\n",
       "    .dataframe tbody tr th {\n",
       "        vertical-align: top;\n",
       "    }\n",
       "\n",
       "    .dataframe thead th {\n",
       "        text-align: right;\n",
       "    }\n",
       "</style>\n",
       "<table border=\"1\" class=\"dataframe\">\n",
       "  <thead>\n",
       "    <tr style=\"text-align: right;\">\n",
       "      <th></th>\n",
       "      <th>row_id</th>\n",
       "      <th>date</th>\n",
       "      <th>country</th>\n",
       "      <th>store</th>\n",
       "      <th>product</th>\n",
       "    </tr>\n",
       "  </thead>\n",
       "  <tbody>\n",
       "    <tr>\n",
       "      <th>0</th>\n",
       "      <td>26298</td>\n",
       "      <td>2019-01-01</td>\n",
       "      <td>Finland</td>\n",
       "      <td>KaggleMart</td>\n",
       "      <td>Kaggle Mug</td>\n",
       "    </tr>\n",
       "    <tr>\n",
       "      <th>1</th>\n",
       "      <td>26299</td>\n",
       "      <td>2019-01-01</td>\n",
       "      <td>Finland</td>\n",
       "      <td>KaggleMart</td>\n",
       "      <td>Kaggle Hat</td>\n",
       "    </tr>\n",
       "    <tr>\n",
       "      <th>2</th>\n",
       "      <td>26300</td>\n",
       "      <td>2019-01-01</td>\n",
       "      <td>Finland</td>\n",
       "      <td>KaggleMart</td>\n",
       "      <td>Kaggle Sticker</td>\n",
       "    </tr>\n",
       "    <tr>\n",
       "      <th>3</th>\n",
       "      <td>26301</td>\n",
       "      <td>2019-01-01</td>\n",
       "      <td>Finland</td>\n",
       "      <td>KaggleRama</td>\n",
       "      <td>Kaggle Mug</td>\n",
       "    </tr>\n",
       "    <tr>\n",
       "      <th>4</th>\n",
       "      <td>26302</td>\n",
       "      <td>2019-01-01</td>\n",
       "      <td>Finland</td>\n",
       "      <td>KaggleRama</td>\n",
       "      <td>Kaggle Hat</td>\n",
       "    </tr>\n",
       "  </tbody>\n",
       "</table>\n",
       "</div>"
      ],
      "text/plain": [
       "   row_id        date  country       store         product\n",
       "0   26298  2019-01-01  Finland  KaggleMart      Kaggle Mug\n",
       "1   26299  2019-01-01  Finland  KaggleMart      Kaggle Hat\n",
       "2   26300  2019-01-01  Finland  KaggleMart  Kaggle Sticker\n",
       "3   26301  2019-01-01  Finland  KaggleRama      Kaggle Mug\n",
       "4   26302  2019-01-01  Finland  KaggleRama      Kaggle Hat"
      ]
     },
     "execution_count": 5,
     "metadata": {},
     "output_type": "execute_result"
    }
   ],
   "source": [
    "#dataset de test\n",
    "\n",
    "test = pd.read_csv(test_path)\n",
    "test.head()"
   ]
  },
  {
   "cell_type": "markdown",
   "id": "571b3e09",
   "metadata": {},
   "source": [
    "## 2. Rapid Exploratory Data Analysis (EDA)"
   ]
  },
  {
   "cell_type": "code",
   "execution_count": 8,
   "id": "fd57b710",
   "metadata": {},
   "outputs": [
    {
     "name": "stdout",
     "output_type": "stream",
     "text": [
      "Collecting sweetviz\n",
      "  Downloading sweetviz-2.1.3-py3-none-any.whl (15.1 MB)\n",
      "Requirement already satisfied: scipy>=1.3.2 in c:\\users\\ccollado\\anaconda3\\lib\\site-packages (from sweetviz) (1.6.2)\n",
      "Requirement already satisfied: numpy>=1.16.0 in c:\\users\\ccollado\\anaconda3\\lib\\site-packages (from sweetviz) (1.20.1)\n",
      "Requirement already satisfied: jinja2>=2.11.1 in c:\\users\\ccollado\\anaconda3\\lib\\site-packages (from sweetviz) (2.11.3)\n",
      "Requirement already satisfied: pandas!=1.0.0,!=1.0.1,!=1.0.2,>=0.25.3 in c:\\users\\ccollado\\anaconda3\\lib\\site-packages (from sweetviz) (1.2.4)\n",
      "Collecting importlib-resources>=1.2.0\n",
      "  Downloading importlib_resources-5.4.0-py3-none-any.whl (28 kB)\n",
      "Requirement already satisfied: matplotlib>=3.1.3 in c:\\users\\ccollado\\anaconda3\\lib\\site-packages (from sweetviz) (3.3.4)\n",
      "Requirement already satisfied: tqdm>=4.43.0 in c:\\users\\ccollado\\anaconda3\\lib\\site-packages (from sweetviz) (4.59.0)\n",
      "Requirement already satisfied: zipp>=3.1.0 in c:\\users\\ccollado\\anaconda3\\lib\\site-packages (from importlib-resources>=1.2.0->sweetviz) (3.4.1)\n",
      "Requirement already satisfied: MarkupSafe>=0.23 in c:\\users\\ccollado\\anaconda3\\lib\\site-packages (from jinja2>=2.11.1->sweetviz) (2.0.1)\n",
      "Requirement already satisfied: python-dateutil>=2.1 in c:\\users\\ccollado\\anaconda3\\lib\\site-packages (from matplotlib>=3.1.3->sweetviz) (2.8.1)\n",
      "Requirement already satisfied: cycler>=0.10 in c:\\users\\ccollado\\anaconda3\\lib\\site-packages (from matplotlib>=3.1.3->sweetviz) (0.10.0)\n",
      "Requirement already satisfied: kiwisolver>=1.0.1 in c:\\users\\ccollado\\anaconda3\\lib\\site-packages (from matplotlib>=3.1.3->sweetviz) (1.3.1)\n",
      "Requirement already satisfied: pillow>=6.2.0 in c:\\users\\ccollado\\anaconda3\\lib\\site-packages (from matplotlib>=3.1.3->sweetviz) (8.2.0)\n",
      "Requirement already satisfied: pyparsing!=2.0.4,!=2.1.2,!=2.1.6,>=2.0.3 in c:\\users\\ccollado\\anaconda3\\lib\\site-packages (from matplotlib>=3.1.3->sweetviz) (2.4.7)\n",
      "Requirement already satisfied: six in c:\\users\\ccollado\\anaconda3\\lib\\site-packages (from cycler>=0.10->matplotlib>=3.1.3->sweetviz) (1.15.0)\n",
      "Requirement already satisfied: pytz>=2017.3 in c:\\users\\ccollado\\anaconda3\\lib\\site-packages (from pandas!=1.0.0,!=1.0.1,!=1.0.2,>=0.25.3->sweetviz) (2021.1)\n",
      "Installing collected packages: importlib-resources, sweetviz\n",
      "Successfully installed importlib-resources-5.4.0 sweetviz-2.1.3\n",
      "Note: you may need to restart the kernel to use updated packages.\n"
     ]
    }
   ],
   "source": [
    "pip install sweetviz"
   ]
  },
  {
   "cell_type": "code",
   "execution_count": 11,
   "id": "0bc61e29",
   "metadata": {},
   "outputs": [],
   "source": [
    "# importing sweetviz\n",
    "import sweetviz as sv"
   ]
  },
  {
   "cell_type": "markdown",
   "id": "a493b68a",
   "metadata": {},
   "source": [
    "Los reportes de visualizacion son generados en HTML "
   ]
  },
  {
   "cell_type": "markdown",
   "id": "3a83849a",
   "metadata": {},
   "source": [
    "### 2.1 Analsis para Train"
   ]
  },
  {
   "cell_type": "code",
   "execution_count": 12,
   "id": "13827bf6",
   "metadata": {},
   "outputs": [
    {
     "data": {
      "application/vnd.jupyter.widget-view+json": {
       "model_id": "2f884ee2307f463882095805d31c9d19",
       "version_major": 2,
       "version_minor": 0
      },
      "text/plain": [
       "                                             |                                             | [  0%]   00:00 ->…"
      ]
     },
     "metadata": {},
     "output_type": "display_data"
    },
    {
     "name": "stdout",
     "output_type": "stream",
     "text": [
      "Report TPS - Train.html was generated! NOTEBOOK/COLAB USERS: the web browser MAY not pop up, regardless, the report IS saved in your notebook/colab files.\n"
     ]
    }
   ],
   "source": [
    "#analyzing the train dataset\n",
    "advert_report = sv.analyze(train)\n",
    "\n",
    "#display the report for train dataset\n",
    "advert_report.show_html('TPS - Train.html')"
   ]
  },
  {
   "cell_type": "markdown",
   "id": "98dc8edd",
   "metadata": {},
   "source": [
    "### 2.2 Analsis para Train"
   ]
  },
  {
   "cell_type": "code",
   "execution_count": 13,
   "id": "0a5330c6",
   "metadata": {},
   "outputs": [
    {
     "data": {
      "application/vnd.jupyter.widget-view+json": {
       "model_id": "f56b41fd2b1449579990afb136196290",
       "version_major": 2,
       "version_minor": 0
      },
      "text/plain": [
       "                                             |                                             | [  0%]   00:00 ->…"
      ]
     },
     "metadata": {},
     "output_type": "display_data"
    },
    {
     "name": "stdout",
     "output_type": "stream",
     "text": [
      "Report TPS - Test.html was generated! NOTEBOOK/COLAB USERS: the web browser MAY not pop up, regardless, the report IS saved in your notebook/colab files.\n"
     ]
    }
   ],
   "source": [
    "#analyzing the test dataset\n",
    "advert_report = sv.analyze(train)\n",
    "\n",
    "#display the report for test dataset\n",
    "advert_report.show_html('TPS - Test.html')"
   ]
  },
  {
   "cell_type": "markdown",
   "id": "27cf3466",
   "metadata": {},
   "source": [
    "### 2.3 Comparativa Train - Test"
   ]
  },
  {
   "cell_type": "code",
   "execution_count": 14,
   "id": "8fcce47d",
   "metadata": {},
   "outputs": [
    {
     "data": {
      "application/vnd.jupyter.widget-view+json": {
       "model_id": "170861756acb4842bef4f1acc7ca0951",
       "version_major": 2,
       "version_minor": 0
      },
      "text/plain": [
       "                                             |                                             | [  0%]   00:00 ->…"
      ]
     },
     "metadata": {},
     "output_type": "display_data"
    },
    {
     "name": "stdout",
     "output_type": "stream",
     "text": [
      "Report Comparacion Train - Test.html was generated! NOTEBOOK/COLAB USERS: the web browser MAY not pop up, regardless, the report IS saved in your notebook/colab files.\n"
     ]
    }
   ],
   "source": [
    "comparacion_train_test = sv.compare(train, test)\n",
    "comparacion_train_test.show_html('Comparacion Train - Test.html')"
   ]
  }
 ],
 "metadata": {
  "kernelspec": {
   "display_name": "Python 3",
   "language": "python",
   "name": "python3"
  },
  "language_info": {
   "codemirror_mode": {
    "name": "ipython",
    "version": 3
   },
   "file_extension": ".py",
   "mimetype": "text/x-python",
   "name": "python",
   "nbconvert_exporter": "python",
   "pygments_lexer": "ipython3",
   "version": "3.8.8"
  }
 },
 "nbformat": 4,
 "nbformat_minor": 5
}
